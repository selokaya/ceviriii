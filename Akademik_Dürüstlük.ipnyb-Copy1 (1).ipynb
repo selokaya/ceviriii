{
 "cells": [
  {
   "cell_type": "markdown",
   "metadata": {},
   "source": [
    "# Kişisel ve Akademik Dürüstlük Eksikliği\n",
    "\n",
    "Ders sırasında sıkılabilirsiniz, neden bilgisayar programlamayı öğreniyorum diye sorgulayabilirsiniz fakat bu size ders sırasında kopya çekme hakkı **TANIMAZ.**\n",
    "\n",
    "Bu bölümde sıfırdan kod yazarak pratik yapmanız gerektiği vurgulanmıştır. Pratik yapmamanız durumunda, ders esnasında da rahatça anlayabilme şansınız vardır. Fakat, yine de bazılarımız pratik sırasında kopya çekmeyi tercih ediyor.\n",
    "\n",
    "Akademik (ve kişisel) dürüstlük eksikliği öğrenciler için çok büyük bir problemdir. Öğretim görevlisi, öğrencilere adil bir şekilde not vermekle yükümlüdür, bu nedenle kopya çeken öğrenci tüm sınıfı ilgilendiren bir problemdir.\n",
    "\n",
    "Akademik ve kişisel etik eksikliğinden dolayı, kopya çekebilecek öğrenciler olduğu için ev ödevi vermiyordum. Fakat, çalışan ve çalışmayan öğrencileri ayırt etme yükümlülüğüm vardır.\n",
    "\n",
    "# Üstünde Düşünülmesi Gereken Sorular\n",
    "\n",
    "* Eğer bir şirketin olsaydı, eğitim yıllarında kopya çekmiş bir mühendisi işe alır mıydınız?\n",
    "* Eğer bir öğrenci ders esnasında bile kopya çekiyorsa, sınavlarda ve ödevlerde ne kadar başarılı olabilir?\n",
    "* Sınavlarında ve ödevlerinde kopya çeken bir öğrencinin, sınıfta diğer kopya çeken öğrenciler hakkında şikayet etme hakkı var mıdır? \n"
   ]
  },
  {
   "cell_type": "markdown",
   "metadata": {},
   "source": [
    "# Akademik Alanda Kopya Çekmenin Öğrenci Üzerinde Olumsuz Etkileri\n",
    "\n",
    ">Lütfen okuyunuz. Aşağıdaki bilgiler [bu blogdan](http://www.assignmentbay.co.uk/7-adverse-effects-of-academic-cheating-on-students) alınmıştır. \n",
    "\n",
    "Kopya çekmek, hiçbir şeyin çözümü değildir, size hiçbir şey katmaz. Kopya çekmek, kısa vadede sizi tatmin edebilir fakat uzun vadede kişiliğiniz üzerinde bir çok olumsuz etki yaratır.\n",
    "\n",
    "Kimse hayatta başarısız olmak istemez, hepimiz başarılı olmak isteriz. Bu nedenle başarılı olmak için her şeyi yapmaya hazırız. Fakat bu kopya çekmek için mantıklı bir sebep değildir. Kopya çekmek kötü bir şeydir ve ne olursa olsun kaçınılmalıdır.\n",
    "\n",
    "Okula giden çocuklar genellikle sınav esnasında kopya çekme alışkanlığı kazanır. Bu hiçbir şeyin çözümü değildir. Bir öğrenci olarak dürüst olmalı ve emeğinle hak ettiğini almalısın.\n",
    "\n",
    "Bu yazıda, kopya çeken öğrencilerin eğitim esnasında yaşadığı olumsuz etkilerden bahsettik.\n",
    "\n",
    "**Dürüstlük Kaybı**\n",
    "\n",
    "Öğrencilerin okulda öğrenmesi gereken en önemli şeyler dürüstlük ve doğruluktur. Sınavlarda kopya çektiğinizde, dürüstlüğünüzü hiçe saymış olursunuz. Sonuç olarak hayatın her alanında hile yapmaya çalışırsınız. Mesela ailenize yalan söyleme eğilimine girersiniz veya sporda hile yapmaya başvurursunuz. Bu, başkalarının size olan bütün saygıyı yitirmesine sebep olur.\n",
    "\n",
    "**Yasal Cezalarla Yüzleşmek**\n",
    "\n",
    "Sınavlarda hile yaparsanız yasal cezalarla karşı karşıya gelebilirsiniz. Bu da okuldan atılmanıza ve kariyerinizi mahvetmenize sebep olabilir.\n",
    "\n",
    "**Öz Saygıyı Kaybetmek** \n",
    "\n",
    "Kendi hayatınızı sürdürmek için, ideal miktarda öz saygıya ihtiyacımız vardır. Kendinize saygı duymanız önemlidir ve hile yaparsanız bunu kaybedersiniz. Bir kez bu saygıyı kaybederseniz, onu tekrar kazanmak zorlaşır.\n",
    "\n",
    "**Hiçbir Şey Öğrenememek**\n",
    "\n",
    "Okula gidip sınava girmenin amacı bir şeyler öğrenmektir. Kopya çekerseniz, hiçbir şey öğrenemezsiniz. Sınavı geçebilir ve başarı elde edebilirsiniz, fakat gelecekte sizden bir şey istenirse cevaplayamazsınız. Kopya çekmek, bir konuda profesyonel olmanızı engeller.\n",
    "\n",
    "**Hayatının Geri Kalanında Kopya Çekmek**\n",
    "\n",
    "Bir kere kopya çektiğinde, hayatının geri kalanında da kolay yola kaçma eğiliminde olursunuz. Başarıya giden yolda çalışmayı düşünmezsiniz. Bu profesyonel bir iş ortamında tercih edilen bir davranış değildir.\n",
    "\n",
    "**Olumsuz Olmak**\n",
    "\n",
    "Kopya çekerek kendinizi kötü etkilersiniz. Bütün kişiliğiniz, kopya çektiğinizde değişir. Kopya çekerek kendinizi kandırırsınız. Kopya çektiğinizde, başkalarının da kopya çektiğini düşünürsünüz. Zaman içinde de, insan ilişkilerinizde dünyaya negatif bir mercekle bakarsınız. \n",
    "\n",
    "**Kurallara ve Yasalara Saygısızlık**\n",
    "\n",
    "Kopya çekerek sınavlara, öğretmenlere ve kuruma saygıyı göz ardı etmiş oluyorsunuz. Hiçbir şeye saygı duymaz ve yasaya da saygıyı yitirirsiniz.\n",
    "\n",
    "Bunlar ve diğerleri okulda kopya çeken öğrencilerin karşılaştığı olumsuz durumlardır. Öğrencilerin kopyadan kaçınmasını sağlamak, öğretmenlerin ve ebeveynlerin görevidir."
   ]merhhaba dünya

   
  },
  {
   "cell_type": "code",
   "execution_count": null,
   "metadata": {},
   "outputs": [],
   "source": []
  }
 ],
 "metadata": {
  "kernelspec": {
   "display_name": "Python 3",
   "language": "python",
   "name": "python3"
  },
  "language_info": {
   "codemirror_mode": {
    "name": "ipython",
    "version": 3
   },
   "file_extension": ".py",
   "mimetype": "text/x-python",
   "name": "python",
   "nbconvert_exporter": "python",
   "pygments_lexer": "ipython3",
   "version": "3.7.4"
  }
 },
 "nbformat": 4,
 "nbformat_minor": 2
}
